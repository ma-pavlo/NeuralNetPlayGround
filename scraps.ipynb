{
 "metadata": {
  "language_info": {
   "codemirror_mode": {
    "name": "ipython",
    "version": 3
   },
   "file_extension": ".py",
   "mimetype": "text/x-python",
   "name": "python",
   "nbconvert_exporter": "python",
   "pygments_lexer": "ipython3",
   "version": "3.8.5-final"
  },
  "orig_nbformat": 2,
  "kernelspec": {
   "name": "python3",
   "display_name": "Python 3"
  }
 },
 "nbformat": 4,
 "nbformat_minor": 2,
 "cells": [
  {
   "source": [
    "### Mike making me suffer\n",
    "_kdk_"
   ],
   "cell_type": "markdown",
   "metadata": {}
  },
  {
   "cell_type": "code",
   "execution_count": 7,
   "metadata": {},
   "outputs": [],
   "source": [
    "import h5py\n",
    "import numpy\n",
    "import matplotlib.pyplot as plt\n",
    "from main import *"
   ]
  },
  {
   "cell_type": "code",
   "execution_count": 12,
   "metadata": {},
   "outputs": [],
   "source": [
    "train_set_x_orig, train_set_y_orig, test_set_x_orig, test_set_y_orig, classes = load_data()"
   ]
  },
  {
   "cell_type": "code",
   "execution_count": 44,
   "metadata": {},
   "outputs": [
    {
     "output_type": "execute_result",
     "data": {
      "text/plain": [
       "(12288, 1)"
      ]
     },
     "metadata": {},
     "execution_count": 44
    }
   ],
   "source": [
    "train_set_x_orig.reshape(train_set_x_orig.shape[0],-1)[[0]].T.shape"
   ]
  },
  {
   "cell_type": "code",
   "execution_count": 53,
   "metadata": {},
   "outputs": [
    {
     "output_type": "execute_result",
     "data": {
      "text/plain": [
       "0"
      ]
     },
     "metadata": {},
     "execution_count": 53
    }
   ],
   "source": [
    "train_set_y_orig[0][0]#[[0]].shape"
   ]
  },
  {
   "cell_type": "code",
   "execution_count": 46,
   "metadata": {},
   "outputs": [
    {
     "output_type": "stream",
     "name": "stdout",
     "text": [
      "(3, 1)\n"
     ]
    },
    {
     "output_type": "execute_result",
     "data": {
      "text/plain": [
       "array([[1],\n",
       "       [2],\n",
       "       [3]])"
      ]
     },
     "metadata": {},
     "execution_count": 46
    }
   ],
   "source": [
    "toyarray = np.array([[1,2,3]]).T\n",
    "print(toyarray.shape)\n",
    "toyarray"
   ]
  },
  {
   "cell_type": "code",
   "execution_count": 68,
   "metadata": {},
   "outputs": [
    {
     "output_type": "execute_result",
     "data": {
      "text/plain": [
       "(12288, 1)"
      ]
     },
     "metadata": {},
     "execution_count": 68
    }
   ],
   "source": [
    "exampleInputLayer = train_set_x_orig.reshape(train_set_x_orig.shape[0],-1)[[0]].T\n",
    "exampleOuput = train_set_y_orig[0][0]\n",
    "exampleInputLayer.shape\n"
   ]
  },
  {
   "cell_type": "code",
   "execution_count": 87,
   "metadata": {},
   "outputs": [
    {
     "output_type": "execute_result",
     "data": {
      "text/plain": [
       "(100, 12288)"
      ]
     },
     "metadata": {},
     "execution_count": 87
    }
   ],
   "source": [
    "layer_size = 100\n",
    "layer_count = 3\n",
    "\n",
    "weights = np.random.rand(layer_count, layer_size, exampleInputLayer.shape[0])\n",
    "bias = np.random.rand(layer_count, layer_size, 1, layer_count)\n",
    "weights[0].shape\n"
   ]
  },
  {
   "cell_type": "code",
   "execution_count": 88,
   "metadata": {},
   "outputs": [
    {
     "output_type": "execute_result",
     "data": {
      "text/plain": [
       "(100, 1)"
      ]
     },
     "metadata": {},
     "execution_count": 88
    }
   ],
   "source": [
    "weights[0].dot(exampleInputLayer).shape"
   ]
  },
  {
   "cell_type": "code",
   "execution_count": null,
   "metadata": {},
   "outputs": [],
   "source": []
  },
  {
   "cell_type": "code",
   "execution_count": null,
   "metadata": {},
   "outputs": [],
   "source": []
  },
  {
   "cell_type": "code",
   "execution_count": null,
   "metadata": {},
   "outputs": [],
   "source": []
  }
 ]
}