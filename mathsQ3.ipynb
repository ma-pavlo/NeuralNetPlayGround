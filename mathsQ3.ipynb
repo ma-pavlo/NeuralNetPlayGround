{
 "cells": [
  {
   "cell_type": "code",
   "execution_count": 1,
   "metadata": {},
   "outputs": [],
   "source": [
    "# Libraries\n",
    "import pandas as pd\n",
    "import numpy as np\n",
    "import math\n",
    "from math import erf, sqrt"
   ]
  },
  {
   "cell_type": "markdown",
   "metadata": {},
   "source": [
    "\n",
    "----\n",
    "\n",
    "### Question 3\n",
    "\n",
    "The data set **''pca data''** consists of 392 observations each with 4 features, $y^{obs}_1 =\n",
    "(12, 307, 130, 18)^t$ , . . . , $y_{392}^{obs} = (19.4, 119, 82, 31)^t$ $\\in$ ${\\rm I\\!R^{4}}$, collected in the non-centred 4 × 392 data matrix $Y_{obs} = (y_1^{obs}, . . . , y_{392}^{obs})$."
   ]
  },
  {
   "cell_type": "code",
   "execution_count": 2,
   "metadata": {},
   "outputs": [
    {
     "data": {
      "text/html": [
       "<div>\n",
       "<style scoped>\n",
       "    .dataframe tbody tr th:only-of-type {\n",
       "        vertical-align: middle;\n",
       "    }\n",
       "\n",
       "    .dataframe tbody tr th {\n",
       "        vertical-align: top;\n",
       "    }\n",
       "\n",
       "    .dataframe thead th {\n",
       "        text-align: right;\n",
       "    }\n",
       "</style>\n",
       "<table border=\"1\" class=\"dataframe\">\n",
       "  <thead>\n",
       "    <tr style=\"text-align: right;\">\n",
       "      <th></th>\n",
       "      <th>0</th>\n",
       "      <th>1</th>\n",
       "      <th>2</th>\n",
       "      <th>3</th>\n",
       "      <th>4</th>\n",
       "      <th>5</th>\n",
       "      <th>6</th>\n",
       "      <th>7</th>\n",
       "      <th>8</th>\n",
       "      <th>9</th>\n",
       "      <th>...</th>\n",
       "      <th>382</th>\n",
       "      <th>383</th>\n",
       "      <th>384</th>\n",
       "      <th>385</th>\n",
       "      <th>386</th>\n",
       "      <th>387</th>\n",
       "      <th>388</th>\n",
       "      <th>389</th>\n",
       "      <th>390</th>\n",
       "      <th>391</th>\n",
       "    </tr>\n",
       "  </thead>\n",
       "  <tbody>\n",
       "    <tr>\n",
       "      <td>0</td>\n",
       "      <td>12</td>\n",
       "      <td>11.5</td>\n",
       "      <td>11</td>\n",
       "      <td>12</td>\n",
       "      <td>10.5</td>\n",
       "      <td>10</td>\n",
       "      <td>9</td>\n",
       "      <td>8.5</td>\n",
       "      <td>10</td>\n",
       "      <td>8.5</td>\n",
       "      <td>...</td>\n",
       "      <td>14.5</td>\n",
       "      <td>14.7</td>\n",
       "      <td>13.9</td>\n",
       "      <td>13</td>\n",
       "      <td>17.3</td>\n",
       "      <td>15.6</td>\n",
       "      <td>24.6</td>\n",
       "      <td>11.6</td>\n",
       "      <td>18.6</td>\n",
       "      <td>19.4</td>\n",
       "    </tr>\n",
       "    <tr>\n",
       "      <td>1</td>\n",
       "      <td>307</td>\n",
       "      <td>350.0</td>\n",
       "      <td>318</td>\n",
       "      <td>304</td>\n",
       "      <td>302.0</td>\n",
       "      <td>429</td>\n",
       "      <td>454</td>\n",
       "      <td>440.0</td>\n",
       "      <td>455</td>\n",
       "      <td>390.0</td>\n",
       "      <td>...</td>\n",
       "      <td>156.0</td>\n",
       "      <td>232.0</td>\n",
       "      <td>144.0</td>\n",
       "      <td>135</td>\n",
       "      <td>151.0</td>\n",
       "      <td>140.0</td>\n",
       "      <td>97.0</td>\n",
       "      <td>135.0</td>\n",
       "      <td>120.0</td>\n",
       "      <td>119.0</td>\n",
       "    </tr>\n",
       "    <tr>\n",
       "      <td>2</td>\n",
       "      <td>130</td>\n",
       "      <td>165.0</td>\n",
       "      <td>150</td>\n",
       "      <td>150</td>\n",
       "      <td>140.0</td>\n",
       "      <td>198</td>\n",
       "      <td>220</td>\n",
       "      <td>215.0</td>\n",
       "      <td>225</td>\n",
       "      <td>190.0</td>\n",
       "      <td>...</td>\n",
       "      <td>92.0</td>\n",
       "      <td>112.0</td>\n",
       "      <td>96.0</td>\n",
       "      <td>84</td>\n",
       "      <td>90.0</td>\n",
       "      <td>86.0</td>\n",
       "      <td>52.0</td>\n",
       "      <td>84.0</td>\n",
       "      <td>79.0</td>\n",
       "      <td>82.0</td>\n",
       "    </tr>\n",
       "    <tr>\n",
       "      <td>3</td>\n",
       "      <td>18</td>\n",
       "      <td>15.0</td>\n",
       "      <td>18</td>\n",
       "      <td>16</td>\n",
       "      <td>17.0</td>\n",
       "      <td>15</td>\n",
       "      <td>14</td>\n",
       "      <td>14.0</td>\n",
       "      <td>14</td>\n",
       "      <td>15.0</td>\n",
       "      <td>...</td>\n",
       "      <td>26.0</td>\n",
       "      <td>22.0</td>\n",
       "      <td>32.0</td>\n",
       "      <td>36</td>\n",
       "      <td>27.0</td>\n",
       "      <td>27.0</td>\n",
       "      <td>44.0</td>\n",
       "      <td>32.0</td>\n",
       "      <td>28.0</td>\n",
       "      <td>31.0</td>\n",
       "    </tr>\n",
       "  </tbody>\n",
       "</table>\n",
       "<p>4 rows × 392 columns</p>\n",
       "</div>"
      ],
      "text/plain": [
       "   0      1    2    3      4    5    6      7    8      9    ...    382  \\\n",
       "0   12   11.5   11   12   10.5   10    9    8.5   10    8.5  ...   14.5   \n",
       "1  307  350.0  318  304  302.0  429  454  440.0  455  390.0  ...  156.0   \n",
       "2  130  165.0  150  150  140.0  198  220  215.0  225  190.0  ...   92.0   \n",
       "3   18   15.0   18   16   17.0   15   14   14.0   14   15.0  ...   26.0   \n",
       "\n",
       "     383    384  385    386    387   388    389    390    391  \n",
       "0   14.7   13.9   13   17.3   15.6  24.6   11.6   18.6   19.4  \n",
       "1  232.0  144.0  135  151.0  140.0  97.0  135.0  120.0  119.0  \n",
       "2  112.0   96.0   84   90.0   86.0  52.0   84.0   79.0   82.0  \n",
       "3   22.0   32.0   36   27.0   27.0  44.0   32.0   28.0   31.0  \n",
       "\n",
       "[4 rows x 392 columns]"
      ]
     },
     "execution_count": 2,
     "metadata": {},
     "output_type": "execute_result"
    }
   ],
   "source": [
    "pca_data = pd.read_csv('pca_data.csv', header = None)\n",
    "pca_data.head()"
   ]
  },
  {
   "cell_type": "code",
   "execution_count": 3,
   "metadata": {},
   "outputs": [
    {
     "data": {
      "text/plain": [
       "(4, 392)"
      ]
     },
     "execution_count": 3,
     "metadata": {},
     "output_type": "execute_result"
    }
   ],
   "source": [
    "pca_data.shape"
   ]
  },
  {
   "cell_type": "markdown",
   "metadata": {},
   "source": [
    "##### Compute the covariance matrix **C** associated with the centred 4 × 392 data matrix\n",
    "\n",
    "\n",
    "---\n",
    "\n",
    "I will first calculate the centred the matrix $Y$ with bringing each of the dimensions to a 0 mean. \n",
    "\n",
    "$$\\bar{\\mathbf{y}} = \\frac{1}{N} \\Sigma^{N}_{n=1} y_n = 0$$\n",
    "\n",
    "and then calculate the covariance matrix as follows:\n",
    "\n",
    "$${C=\\frac{1}{m}YY^t}$$"
   ]
  },
  {
   "cell_type": "code",
   "execution_count": 4,
   "metadata": {},
   "outputs": [
    {
     "name": "stdout",
     "output_type": "stream",
     "text": [
      "[ 15.54132653 194.4119898  104.46938776  23.44591837]\n"
     ]
    }
   ],
   "source": [
    "# first center the matrix \n",
    "# -----------------------\n",
    "# calculate the mean of each feature\n",
    "meanpoints = (pca_data.to_numpy()).mean(axis = 1)\n",
    "print(meanpoints)"
   ]
  },
  {
   "cell_type": "markdown",
   "metadata": {},
   "source": [
    "Reshape pca_dataframe for calculating with numpy broadcasting making it more elegant than looping through the dataframe.\n",
    "\n",
    "First make it to numpy for broadcasting, then transpose to easily subtract the mean values array from each value in the numpy matrix. Then transpose again to regain the shape of $4x392$ matrix\n"
   ]
  },
  {
   "cell_type": "code",
   "execution_count": 5,
   "metadata": {},
   "outputs": [
    {
     "name": "stdout",
     "output_type": "stream",
     "text": [
      "The centred matrix is of shape: (4, 392). \n",
      "\n",
      "And has the following means:\n",
      "[ 0.  0. -0. -0.]\n"
     ]
    }
   ],
   "source": [
    "# subtract feature mean from feature value in every given column\n",
    "centred_matrix = (pca_data.to_numpy().transpose() - meanpoints).transpose()\n",
    "print('The centred matrix is of shape: {}. {}'.format(centred_matrix.shape, '\\n'))\n",
    "                                                \n",
    "# print the centred matrix means\n",
    "print('And has the following means:{}{}'.format('\\n', centred_matrix.mean(axis = 1).round()))"
   ]
  },
  {
   "cell_type": "markdown",
   "metadata": {},
   "source": [
    "The means of the centred matrix show that each feature now has approx. zero mean.  (rounded values; minuscle)\n",
    "\n",
    "---\n",
    "\n",
    "Construct the 4x4 Covariance Matrix:"
   ]
  },
  {
   "cell_type": "code",
   "execution_count": 6,
   "metadata": {},
   "outputs": [
    {
     "data": {
      "text/plain": [
       "(4, 4)"
      ]
     },
     "execution_count": 6,
     "metadata": {},
     "output_type": "execute_result"
    }
   ],
   "source": [
    "# set m to the number of observations\n",
    "m = len(pca_data)\n",
    "\n",
    "# calculate the cov matrix \n",
    "cov_mat = ((1/m)*(centred_matrix)).dot(centred_matrix.transpose())\n",
    "cov_mat.shape"
   ]
  },
  {
   "cell_type": "code",
   "execution_count": 7,
   "metadata": {},
   "outputs": [
    {
     "name": "stdout",
     "output_type": "stream",
     "text": [
      "[[ 7.44007628e+02 -1.53462061e+04 -7.15402602e+03  8.91041531e+02]\n",
      " [-1.53462061e+04  1.07039843e+06  3.53271798e+05 -6.42789540e+04]\n",
      " [-7.15402602e+03  3.53271798e+05  1.44823408e+05 -2.28596122e+04]\n",
      " [ 8.91041531e+02 -6.42789540e+04 -2.28596122e+04  5.95474837e+03]]\n"
     ]
    }
   ],
   "source": [
    "print(cov_mat)"
   ]
  },
  {
   "cell_type": "markdown",
   "metadata": {},
   "source": [
    "The covariance matrix is a 4x4 matrix.\n"
   ]
  },
  {
   "cell_type": "markdown",
   "metadata": {},
   "source": [
    "---\n",
    "\n",
    "#### Compute the eigenvalues of **C**. What are the two largest eigenvalues $\\lambda_1 and \\lambda_2$?\n",
    "\n",
    "\n",
    "Via Python Library:"
   ]
  },
  {
   "cell_type": "code",
   "execution_count": 8,
   "metadata": {},
   "outputs": [
    {
     "name": "stdout",
     "output_type": "stream",
     "text": [
      "The eigenvalues are:\n",
      "[1.19398056e+06 2.55829724e+04 3.53020170e+02 2.00404017e+03]\n",
      "\n",
      "The corresponding eigenvectors are:\n",
      "[[ 0.01412202 -0.07381036  0.99245729 -0.09685621]\n",
      " [-0.94565515 -0.32255402 -0.00656592  0.0406465 ]\n",
      " [-0.31976605  0.94260354  0.07987882  0.05355015]\n",
      " [ 0.05732875 -0.04482752  0.092762    0.99302524]]\n",
      "\n"
     ]
    }
   ],
   "source": [
    "# import functions for calculation of eigenvalues\n",
    "from numpy import linalg as LA\n",
    "\n",
    "#calculate eigenvalues and eigenvectors\n",
    "eig_values, eig_vectors = LA.eig(cov_mat)\n",
    "print('The eigenvalues are:{}{}{}'.format('\\n',eig_values,'\\n'))\n",
    "print('The corresponding eigenvectors are:{}{}{}'.format('\\n',eig_vectors,'\\n'))"
   ]
  },
  {
   "cell_type": "markdown",
   "metadata": {},
   "source": [
    "These eigenvalues of my covariance matrix correspond to the variance in each of the D potential projection dimensions. Hence, I am choosing the two $\\lambda 's$ with the highest value. Trying to capture most of the variance in the data through projecting onto these 2 dimensions.\n",
    "\n",
    "In our example above it looks like the first 2 eigenvalues are the largest eigenvalues(capture most of the variance)."
   ]
  },
  {
   "cell_type": "code",
   "execution_count": 9,
   "metadata": {},
   "outputs": [
    {
     "data": {
      "text/plain": [
       "array([1193980.56,   25582.97])"
      ]
     },
     "execution_count": 9,
     "metadata": {},
     "output_type": "execute_result"
    }
   ],
   "source": [
    "# Eigen value 1 and Eigenvalue 2\n",
    "eig_values[:2].round(2)"
   ]
  },
  {
   "cell_type": "markdown",
   "metadata": {},
   "source": [
    "---\n",
    "\n",
    "\n",
    "##### Construct the 2 × 392-matrix **X** corresponding to the projection of the centred data matrix **Y** onto the two directions $e_1 and e_2$ of largest variance. \n",
    "\n",
    "###### In your result you only need to indicate the structure of **X**, e.g., by specifing the entries $X_{1,1} = \\langle y_1, e_1 \\rangle$ , $X_{1,392} = \\langle y_{392}, e_1 \\rangle$, $X_{2,1} = \\langle y_1, e_2 \\rangle$ and $X_{2,392} = \\langle y_{392}, e_2 \\rangle$\n",
    "\n",
    "----\n",
    "\n",
    "The approach taken will be to construct the 2x392 matrix as follows: \n",
    "$$ X = E^tY $$\n",
    "\n",
    "where **E** is my new $k$x$d$ matrix:   $$E=(e_1,e_2,...e_d)$$\n",
    "with the d columns being the eigenvectors of the d largest eigenvalues of interest."
   ]
  },
  {
   "cell_type": "code",
   "execution_count": 10,
   "metadata": {},
   "outputs": [
    {
     "data": {
      "text/plain": [
       "array([[ 0.01412202, -0.07381036],\n",
       "       [-0.94565515, -0.32255402],\n",
       "       [-0.31976605,  0.94260354],\n",
       "       [ 0.05732875, -0.04482752]])"
      ]
     },
     "execution_count": 10,
     "metadata": {},
     "output_type": "execute_result"
    }
   ],
   "source": [
    "# first construct my E\n",
    "E = eig_vectors[:,:2]\n",
    "E"
   ]
  },
  {
   "cell_type": "code",
   "execution_count": 11,
   "metadata": {},
   "outputs": [
    {
     "data": {
      "text/plain": [
       "(4, 2)"
      ]
     },
     "execution_count": 11,
     "metadata": {},
     "output_type": "execute_result"
    }
   ],
   "source": [
    "# show shape of E\n",
    "E.shape"
   ]
  },
  {
   "cell_type": "code",
   "execution_count": 12,
   "metadata": {},
   "outputs": [
    {
     "data": {
      "text/plain": [
       "(2, 4)"
      ]
     },
     "execution_count": 12,
     "metadata": {},
     "output_type": "execute_result"
    }
   ],
   "source": [
    "# transpose E\n",
    "E_t = E.transpose()\n",
    "\n",
    "# show shape of transposed E\n",
    "E_t.shape"
   ]
  },
  {
   "cell_type": "code",
   "execution_count": 13,
   "metadata": {},
   "outputs": [
    {
     "data": {
      "text/plain": [
       "(4, 392)"
      ]
     },
     "execution_count": 13,
     "metadata": {},
     "output_type": "execute_result"
    }
   ],
   "source": [
    "# Show shape of my centred matrix\n",
    "centred_matrix.shape"
   ]
  },
  {
   "cell_type": "code",
   "execution_count": 14,
   "metadata": {},
   "outputs": [
    {
     "data": {
      "text/plain": [
       "(2, 392)"
      ]
     },
     "execution_count": 14,
     "metadata": {},
     "output_type": "execute_result"
    }
   ],
   "source": [
    "# Construct the 2 × 392-matrix X\n",
    "projected_matrix = E_t.dot(centred_matrix)\n",
    "projected_matrix.shape"
   ]
  },
  {
   "cell_type": "code",
   "execution_count": 15,
   "metadata": {},
   "outputs": [
    {
     "data": {
      "text/html": [
       "<div>\n",
       "<style scoped>\n",
       "    .dataframe tbody tr th:only-of-type {\n",
       "        vertical-align: middle;\n",
       "    }\n",
       "\n",
       "    .dataframe tbody tr th {\n",
       "        vertical-align: top;\n",
       "    }\n",
       "\n",
       "    .dataframe thead th {\n",
       "        text-align: right;\n",
       "    }\n",
       "</style>\n",
       "<table border=\"1\" class=\"dataframe\">\n",
       "  <thead>\n",
       "    <tr style=\"text-align: right;\">\n",
       "      <th></th>\n",
       "      <th>0</th>\n",
       "      <th>1</th>\n",
       "      <th>2</th>\n",
       "      <th>3</th>\n",
       "      <th>4</th>\n",
       "      <th>5</th>\n",
       "      <th>6</th>\n",
       "      <th>7</th>\n",
       "      <th>8</th>\n",
       "      <th>9</th>\n",
       "      <th>10</th>\n",
       "      <th>11</th>\n",
       "    </tr>\n",
       "  </thead>\n",
       "  <tbody>\n",
       "    <tr>\n",
       "      <td>0</td>\n",
       "      <td>-114.995473</td>\n",
       "      <td>-167.029503</td>\n",
       "      <td>-131.807122</td>\n",
       "      <td>-118.668486</td>\n",
       "      <td>-113.543369</td>\n",
       "      <td>-252.309722</td>\n",
       "      <td>-283.057405</td>\n",
       "      <td>-268.226463</td>\n",
       "      <td>-285.587768</td>\n",
       "      <td>-212.892226</td>\n",
       "      <td>-199.856136</td>\n",
       "      <td>-156.080877</td>\n",
       "    </tr>\n",
       "    <tr>\n",
       "      <td>1</td>\n",
       "      <td>-11.744956</td>\n",
       "      <td>7.547733</td>\n",
       "      <td>3.632831</td>\n",
       "      <td>8.164432</td>\n",
       "      <td>-0.550607</td>\n",
       "      <td>13.282598</td>\n",
       "      <td>26.074663</td>\n",
       "      <td>25.914307</td>\n",
       "      <td>30.391316</td>\n",
       "      <td>18.432092</td>\n",
       "      <td>1.727184</td>\n",
       "      <td>6.363419</td>\n",
       "    </tr>\n",
       "  </tbody>\n",
       "</table>\n",
       "</div>"
      ],
      "text/plain": [
       "           0           1           2           3           4           5   \\\n",
       "0 -114.995473 -167.029503 -131.807122 -118.668486 -113.543369 -252.309722   \n",
       "1  -11.744956    7.547733    3.632831    8.164432   -0.550607   13.282598   \n",
       "\n",
       "           6           7           8           9           10          11  \n",
       "0 -283.057405 -268.226463 -285.587768 -212.892226 -199.856136 -156.080877  \n",
       "1   26.074663   25.914307   30.391316   18.432092    1.727184    6.363419  "
      ]
     },
     "execution_count": 15,
     "metadata": {},
     "output_type": "execute_result"
    }
   ],
   "source": [
    "projected_M_df = pd. DataFrame(data=projected_matrix, index=None, columns=None)\n",
    "projected_M_df[[*range(12)]]"
   ]
  },
  {
   "cell_type": "markdown",
   "metadata": {},
   "source": [
    "Above are the first 12 values of the calculated X. \n",
    "\n",
    "------"
   ]
  },
  {
   "cell_type": "markdown",
   "metadata": {},
   "source": [
    "Specifiying the entries in the following way: \n",
    "$$X_{1,1} = \\langle y_1, e_1 \\rangle$$ \n",
    "\n",
    "$$X_{1,392} = \\langle y_{392}, e_1 \\rangle$$\n",
    "\n",
    "$$X_{2,1} = \\langle y_1, e_2 \\rangle$$\n",
    "\n",
    "$$X_{2,392} = \\langle y_{392}, e_2 \\rangle$$\n",
    "is done below: "
   ]
  },
  {
   "cell_type": "code",
   "execution_count": 16,
   "metadata": {},
   "outputs": [
    {
     "name": "stdout",
     "output_type": "stream",
     "text": [
      "[[ 0.01412202]\n",
      " [-0.94565515]\n",
      " [-0.31976605]\n",
      " [ 0.05732875]]\n"
     ]
    }
   ],
   "source": [
    "# extract e1\n",
    "e1 = E_t[0].reshape(-1,1)\n",
    "print(e1)"
   ]
  },
  {
   "cell_type": "code",
   "execution_count": 17,
   "metadata": {},
   "outputs": [
    {
     "name": "stdout",
     "output_type": "stream",
     "text": [
      "[[-0.07381036]\n",
      " [-0.32255402]\n",
      " [ 0.94260354]\n",
      " [-0.04482752]]\n"
     ]
    }
   ],
   "source": [
    "# extract e2\n",
    "e2 = E_t[1].reshape(-1,1)\n",
    "print(e2)"
   ]
  },
  {
   "cell_type": "code",
   "execution_count": 18,
   "metadata": {},
   "outputs": [
    {
     "data": {
      "text/html": [
       "<div>\n",
       "<style scoped>\n",
       "    .dataframe tbody tr th:only-of-type {\n",
       "        vertical-align: middle;\n",
       "    }\n",
       "\n",
       "    .dataframe tbody tr th {\n",
       "        vertical-align: top;\n",
       "    }\n",
       "\n",
       "    .dataframe thead th {\n",
       "        text-align: right;\n",
       "    }\n",
       "</style>\n",
       "<table border=\"1\" class=\"dataframe\">\n",
       "  <thead>\n",
       "    <tr style=\"text-align: right;\">\n",
       "      <th></th>\n",
       "      <th>0</th>\n",
       "      <th>1</th>\n",
       "      <th>2</th>\n",
       "      <th>3</th>\n",
       "      <th>4</th>\n",
       "      <th>5</th>\n",
       "      <th>6</th>\n",
       "      <th>7</th>\n",
       "      <th>8</th>\n",
       "      <th>9</th>\n",
       "      <th>...</th>\n",
       "      <th>382</th>\n",
       "      <th>383</th>\n",
       "      <th>384</th>\n",
       "      <th>385</th>\n",
       "      <th>386</th>\n",
       "      <th>387</th>\n",
       "      <th>388</th>\n",
       "      <th>389</th>\n",
       "      <th>390</th>\n",
       "      <th>391</th>\n",
       "    </tr>\n",
       "  </thead>\n",
       "  <tbody>\n",
       "    <tr>\n",
       "      <td>0</td>\n",
       "      <td>-3.541327</td>\n",
       "      <td>-4.041327</td>\n",
       "      <td>-4.541327</td>\n",
       "      <td>-3.541327</td>\n",
       "      <td>-5.041327</td>\n",
       "      <td>-5.541327</td>\n",
       "      <td>-6.541327</td>\n",
       "      <td>-7.041327</td>\n",
       "      <td>-5.541327</td>\n",
       "      <td>-7.041327</td>\n",
       "      <td>...</td>\n",
       "      <td>-1.041327</td>\n",
       "      <td>-0.841327</td>\n",
       "      <td>-1.641327</td>\n",
       "      <td>-2.541327</td>\n",
       "      <td>1.758673</td>\n",
       "      <td>0.058673</td>\n",
       "      <td>9.058673</td>\n",
       "      <td>-3.941327</td>\n",
       "      <td>3.058673</td>\n",
       "      <td>3.858673</td>\n",
       "    </tr>\n",
       "    <tr>\n",
       "      <td>1</td>\n",
       "      <td>112.588010</td>\n",
       "      <td>155.588010</td>\n",
       "      <td>123.588010</td>\n",
       "      <td>109.588010</td>\n",
       "      <td>107.588010</td>\n",
       "      <td>234.588010</td>\n",
       "      <td>259.588010</td>\n",
       "      <td>245.588010</td>\n",
       "      <td>260.588010</td>\n",
       "      <td>195.588010</td>\n",
       "      <td>...</td>\n",
       "      <td>-38.411990</td>\n",
       "      <td>37.588010</td>\n",
       "      <td>-50.411990</td>\n",
       "      <td>-59.411990</td>\n",
       "      <td>-43.411990</td>\n",
       "      <td>-54.411990</td>\n",
       "      <td>-97.411990</td>\n",
       "      <td>-59.411990</td>\n",
       "      <td>-74.411990</td>\n",
       "      <td>-75.411990</td>\n",
       "    </tr>\n",
       "    <tr>\n",
       "      <td>2</td>\n",
       "      <td>25.530612</td>\n",
       "      <td>60.530612</td>\n",
       "      <td>45.530612</td>\n",
       "      <td>45.530612</td>\n",
       "      <td>35.530612</td>\n",
       "      <td>93.530612</td>\n",
       "      <td>115.530612</td>\n",
       "      <td>110.530612</td>\n",
       "      <td>120.530612</td>\n",
       "      <td>85.530612</td>\n",
       "      <td>...</td>\n",
       "      <td>-12.469388</td>\n",
       "      <td>7.530612</td>\n",
       "      <td>-8.469388</td>\n",
       "      <td>-20.469388</td>\n",
       "      <td>-14.469388</td>\n",
       "      <td>-18.469388</td>\n",
       "      <td>-52.469388</td>\n",
       "      <td>-20.469388</td>\n",
       "      <td>-25.469388</td>\n",
       "      <td>-22.469388</td>\n",
       "    </tr>\n",
       "    <tr>\n",
       "      <td>3</td>\n",
       "      <td>-5.445918</td>\n",
       "      <td>-8.445918</td>\n",
       "      <td>-5.445918</td>\n",
       "      <td>-7.445918</td>\n",
       "      <td>-6.445918</td>\n",
       "      <td>-8.445918</td>\n",
       "      <td>-9.445918</td>\n",
       "      <td>-9.445918</td>\n",
       "      <td>-9.445918</td>\n",
       "      <td>-8.445918</td>\n",
       "      <td>...</td>\n",
       "      <td>2.554082</td>\n",
       "      <td>-1.445918</td>\n",
       "      <td>8.554082</td>\n",
       "      <td>12.554082</td>\n",
       "      <td>3.554082</td>\n",
       "      <td>3.554082</td>\n",
       "      <td>20.554082</td>\n",
       "      <td>8.554082</td>\n",
       "      <td>4.554082</td>\n",
       "      <td>7.554082</td>\n",
       "    </tr>\n",
       "  </tbody>\n",
       "</table>\n",
       "<p>4 rows × 392 columns</p>\n",
       "</div>"
      ],
      "text/plain": [
       "          0           1           2           3           4           5    \\\n",
       "0   -3.541327   -4.041327   -4.541327   -3.541327   -5.041327   -5.541327   \n",
       "1  112.588010  155.588010  123.588010  109.588010  107.588010  234.588010   \n",
       "2   25.530612   60.530612   45.530612   45.530612   35.530612   93.530612   \n",
       "3   -5.445918   -8.445918   -5.445918   -7.445918   -6.445918   -8.445918   \n",
       "\n",
       "          6           7           8           9    ...        382        383  \\\n",
       "0   -6.541327   -7.041327   -5.541327   -7.041327  ...  -1.041327  -0.841327   \n",
       "1  259.588010  245.588010  260.588010  195.588010  ... -38.411990  37.588010   \n",
       "2  115.530612  110.530612  120.530612   85.530612  ... -12.469388   7.530612   \n",
       "3   -9.445918   -9.445918   -9.445918   -8.445918  ...   2.554082  -1.445918   \n",
       "\n",
       "         384        385        386        387        388        389  \\\n",
       "0  -1.641327  -2.541327   1.758673   0.058673   9.058673  -3.941327   \n",
       "1 -50.411990 -59.411990 -43.411990 -54.411990 -97.411990 -59.411990   \n",
       "2  -8.469388 -20.469388 -14.469388 -18.469388 -52.469388 -20.469388   \n",
       "3   8.554082  12.554082   3.554082   3.554082  20.554082   8.554082   \n",
       "\n",
       "         390        391  \n",
       "0   3.058673   3.858673  \n",
       "1 -74.411990 -75.411990  \n",
       "2 -25.469388 -22.469388  \n",
       "3   4.554082   7.554082  \n",
       "\n",
       "[4 rows x 392 columns]"
      ]
     },
     "execution_count": 18,
     "metadata": {},
     "output_type": "execute_result"
    }
   ],
   "source": [
    "# turn centred_matrix numpy to pandas dataframe for easier extraction\n",
    "centred_as_df = pd. DataFrame(data=centred_matrix, index=None, columns=None)\n",
    "centred_as_df"
   ]
  },
  {
   "cell_type": "code",
   "execution_count": 19,
   "metadata": {},
   "outputs": [
    {
     "name": "stdout",
     "output_type": "stream",
     "text": [
      "[ -3.54132653 112.5880102   25.53061224  -5.44591837]\n"
     ]
    }
   ],
   "source": [
    "# extract y1\n",
    "y1 = centred_as_df[0].to_numpy()\n",
    "print(y1)"
   ]
  },
  {
   "cell_type": "code",
   "execution_count": 20,
   "metadata": {},
   "outputs": [
    {
     "name": "stdout",
     "output_type": "stream",
     "text": [
      "[  3.85867347 -75.4119898  -22.46938776   7.55408163]\n"
     ]
    }
   ],
   "source": [
    "# extract y392\n",
    "y392 = centred_as_df[391].to_numpy()\n",
    "print(y392)"
   ]
  },
  {
   "cell_type": "markdown",
   "metadata": {},
   "source": [
    "That means: \n",
    "\n",
    "$$X_{1,1} = \\Bigg \\langle (-3.54, 112.59, 25.53, -5.45), \n",
    "\\begin{pmatrix} 0.01 \\\\ 0.99 \\\\ -0.95 \\\\ -0.01 \\end{pmatrix} \\Bigg \\rangle$$ \n",
    "\n",
    "$$X_{1,392} = \\Bigg \\langle  (3.86, -75.41, -22.47, 7.55), \n",
    "\\begin{pmatrix} 0.01 \\\\ 0.99 \\\\ -0.95 \\\\ -0.01 \\end{pmatrix} \\Bigg \\rangle$$ \n",
    "\n",
    "$$X_{2,1} =\\Bigg \\langle (-3.54, 112.59, 25.53, -5.45),\n",
    "\\begin{pmatrix} -0.07 \\\\ -0.1 \\\\ -0.32 \\\\ 0.04 \\end{pmatrix} \\Bigg \\rangle$$ \n",
    "\n",
    "\n",
    "$$X_{2,392} =\\Bigg \\langle (3.86, -75.41, -22.47, 7.55), \n",
    "\\begin{pmatrix} -0.07 \\\\ -0.1 \\\\ -0.32 \\\\ 0.04 \\end{pmatrix} \\Bigg \\rangle$$ \n",
    "\n",
    "\n",
    "_Note: Values are rounded for nicer visualisation._\n",
    "\n",
    "\n",
    "----\n",
    "\n",
    "Below individual calculations of $X_{1,1}$, $X_{1,392}$, $X_{2,1}$ and $X_{2,392}$ for comparison with table above."
   ]
  },
  {
   "cell_type": "code",
   "execution_count": 21,
   "metadata": {},
   "outputs": [
    {
     "name": "stdout",
     "output_type": "stream",
     "text": [
      "-114.99547273\n",
      "-114.99547273\n",
      "True\n"
     ]
    }
   ],
   "source": [
    "# Calculate X1,1\n",
    "x11 = y1.dot(e1)\n",
    "print(x11[0].round(8))\n",
    "print(projected_M_df[0][0].round(8))\n",
    "\n",
    "# Compare: equal to calculated value in dataframe above?\n",
    "print(x11[0].round(8) == projected_M_df[0][0].round(8))"
   ]
  },
  {
   "cell_type": "markdown",
   "metadata": {},
   "source": [
    "$X_{1,1} = -114.99547273$"
   ]
  },
  {
   "cell_type": "code",
   "execution_count": 22,
   "metadata": {},
   "outputs": [
    {
     "name": "stdout",
     "output_type": "stream",
     "text": [
      "78.98624197\n",
      "78.98624197\n",
      "True\n"
     ]
    }
   ],
   "source": [
    "# Calculate X1,392\n",
    "x1392 = y392.dot(e1)\n",
    "print(x1392[0].round(8))\n",
    "print(projected_M_df[391][0].round(8))\n",
    "\n",
    "# Equal to calculated value in dataframe above?\n",
    "print(x1392[0].round(8) == projected_M_df[391][0].round(8))"
   ]
  },
  {
   "cell_type": "markdown",
   "metadata": {},
   "source": [
    "$X_{1,392} = 78.98624197$"
   ]
  },
  {
   "cell_type": "code",
   "execution_count": 23,
   "metadata": {},
   "outputs": [
    {
     "name": "stdout",
     "output_type": "stream",
     "text": [
      "-11.74495591\n",
      "-11.74495591\n",
      "True\n"
     ]
    }
   ],
   "source": [
    "# Calculate X2,1\n",
    "x21 = y1.dot(e2)\n",
    "print(x21[0].round(8))\n",
    "print(projected_M_df[0][1].round(8))\n",
    "\n",
    "# Equal to calculated value in dataframe above?\n",
    "print(x21[0].round(8) == projected_M_df[0][1].round(8))"
   ]
  },
  {
   "cell_type": "markdown",
   "metadata": {},
   "source": [
    "$X_{2,1} = -11.74495591$"
   ]
  },
  {
   "cell_type": "code",
   "execution_count": 24,
   "metadata": {},
   "outputs": [
    {
     "name": "stdout",
     "output_type": "stream",
     "text": [
      "2.5213\n",
      "2.5213\n",
      "True\n"
     ]
    }
   ],
   "source": [
    "# Calculate X2,392\n",
    "x2392 = y392.dot(e2)\n",
    "print(x2392[0].round(4))\n",
    "print(projected_M_df[391][1].round(4))\n",
    "\n",
    "# Equal to calculated value in dataframe above?\n",
    "print(x2392[0].round(8) == projected_M_df[391][1].round(8))"
   ]
  },
  {
   "cell_type": "markdown",
   "metadata": {},
   "source": [
    "$X_{2,392} = 2.5213$"
   ]
  },
  {
   "cell_type": "code",
   "execution_count": null,
   "metadata": {},
   "outputs": [],
   "source": []
  }
 ],
 "metadata": {
  "kernelspec": {
   "display_name": "Python 3",
   "language": "python",
   "name": "python3"
  },
  "language_info": {
   "codemirror_mode": {
    "name": "ipython",
    "version": 3
   },
   "file_extension": ".py",
   "mimetype": "text/x-python",
   "name": "python",
   "nbconvert_exporter": "python",
   "pygments_lexer": "ipython3",
   "version": "3.7.4"
  }
 },
 "nbformat": 4,
 "nbformat_minor": 2
}