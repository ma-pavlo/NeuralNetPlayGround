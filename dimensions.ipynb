{
 "metadata": {
  "language_info": {
   "codemirror_mode": {
    "name": "ipython",
    "version": 3
   },
   "file_extension": ".py",
   "mimetype": "text/x-python",
   "name": "python",
   "nbconvert_exporter": "python",
   "pygments_lexer": "ipython3",
   "version": "3.8.5-final"
  },
  "orig_nbformat": 2,
  "kernelspec": {
   "name": "python3",
   "display_name": "Python 3.8.5 64-bit ('deep': conda)",
   "metadata": {
    "interpreter": {
     "hash": "d0764863682b0261967502680d80f7d3923de4081c51bfafbc196be7c82e5b6f"
    }
   }
  }
 },
 "nbformat": 4,
 "nbformat_minor": 2,
 "cells": [
  {
   "cell_type": "code",
   "execution_count": 1,
   "metadata": {},
   "outputs": [],
   "source": [
    "import h5py\n",
    "import numpy\n",
    "import matplotlib.pyplot as plt\n",
    "from main import *"
   ]
  },
  {
   "cell_type": "code",
   "execution_count": 2,
   "metadata": {},
   "outputs": [],
   "source": [
    "# load the data\n",
    "train_x, train_y, test_x, test_y, classes = load_cat_data()\n",
    "\n",
    "# plot example image at index\n",
    "#plt.imshow(train_x[19]);"
   ]
  },
  {
   "cell_type": "code",
   "execution_count": 3,
   "metadata": {},
   "outputs": [
    {
     "output_type": "stream",
     "name": "stdout",
     "text": [
      "Number of training datapoints: 12288\nNumber of test datapoints:     12288\n\nShape of train_x: (12288, 209)\nShape of train_y: (1, 209)\nShape of test_x:  (12288, 50)\nShape of test_y:  (1, 50)\n"
     ]
    }
   ],
   "source": [
    "train_num = train_x.shape[0]\n",
    "pixel_num = train_x.shape[1]\n",
    "test_num = test_x.shape[0]\n",
    "\n",
    "print(\"Number of training datapoints: \" + str(train_num))\n",
    "print(\"Number of test datapoints:     \" + str(test_num)+ \"\\n\")\n",
    "#print(\"Images are of size: (\" + str(pixel_num) + \", \" + str(pixel_num) + \", 3)\" + \"\\n\")\n",
    "print(\"Shape of train_x: \" + str(train_x.shape))\n",
    "print(\"Shape of train_y: \" + str(train_y.shape))\n",
    "print(\"Shape of test_x:  \" + str(test_x.shape))\n",
    "print(\"Shape of test_y:  \" + str(test_y.shape))"
   ]
  },
  {
   "source": [
    "Reshaping process turns the dimensions of the data to the following:"
   ],
   "cell_type": "markdown",
   "metadata": {}
  },
  {
   "cell_type": "code",
   "execution_count": 4,
   "metadata": {},
   "outputs": [
    {
     "output_type": "stream",
     "name": "stdout",
     "text": [
      "Shape of standardized_train_x: (209, 12288)\nShape of standardized_test_x:  (50, 12288)\n"
     ]
    }
   ],
   "source": [
    "# reshape the training and test examples \n",
    "train_x_flat = train_x.reshape(train_x.shape[0], -1).T \n",
    "test_x_flat = test_x.reshape(test_x.shape[0], -1).T\n",
    "\n",
    "# standardize data to values between 0 and 1\n",
    "standardized_train_x = train_x_flat/train_x_flat.max()\n",
    "standardized_test_x = test_x_flat/train_x_flat.max()\n",
    "\n",
    "print (\"Shape of standardized_train_x: \" + str(standardized_train_x.shape))\n",
    "print (\"Shape of standardized_test_x:  \" + str(standardized_test_x.shape))"
   ]
  },
  {
   "cell_type": "code",
   "execution_count": 5,
   "metadata": {},
   "outputs": [
    {
     "output_type": "stream",
     "name": "stdout",
     "text": [
      "X rows:  12288 X cols:  209 ,\n meaning we have 209 examples, with each image containing 12288 pixels\n"
     ]
    }
   ],
   "source": [
    "print(f'X rows: ',train_x.shape[0], 'X cols: ', train_x.shape[1],',\\n meaning we have',train_x.shape[1], 'examples, with each image containing' ,train_x.shape[0],'pixels')"
   ]
  },
  {
   "cell_type": "code",
   "execution_count": 6,
   "metadata": {},
   "outputs": [
    {
     "output_type": "stream",
     "name": "stdout",
     "text": [
      "(209, 12288)\n"
     ]
    },
    {
     "output_type": "error",
     "ename": "AttributeError",
     "evalue": "'BabyNet' object has no attribute 'initialise_params'",
     "traceback": [
      "\u001b[0;31m---------------------------------------------------------------------------\u001b[0m",
      "\u001b[0;31mAttributeError\u001b[0m                            Traceback (most recent call last)",
      "\u001b[0;32m<ipython-input-6-2f13cb06bfed>\u001b[0m in \u001b[0;36m<module>\u001b[0;34m\u001b[0m\n\u001b[1;32m      2\u001b[0m \u001b[0;34m\u001b[0m\u001b[0m\n\u001b[1;32m      3\u001b[0m \u001b[0mbaby\u001b[0m \u001b[0;34m=\u001b[0m \u001b[0mBabyNet\u001b[0m\u001b[0;34m(\u001b[0m\u001b[0;34m)\u001b[0m\u001b[0;34m\u001b[0m\u001b[0;34m\u001b[0m\u001b[0m\n\u001b[0;32m----> 4\u001b[0;31m \u001b[0mparams2\u001b[0m \u001b[0;34m=\u001b[0m \u001b[0mbaby\u001b[0m\u001b[0;34m.\u001b[0m\u001b[0minitialise_params\u001b[0m\u001b[0;34m(\u001b[0m\u001b[0;34m[\u001b[0m\u001b[0;36m12288\u001b[0m\u001b[0;34m,\u001b[0m\u001b[0;36m8\u001b[0m\u001b[0;34m,\u001b[0m\u001b[0;36m1\u001b[0m\u001b[0;34m]\u001b[0m\u001b[0;34m)\u001b[0m\u001b[0;34m\u001b[0m\u001b[0;34m\u001b[0m\u001b[0m\n\u001b[0m\u001b[1;32m      5\u001b[0m \u001b[0mprint\u001b[0m\u001b[0;34m(\u001b[0m\u001b[0mparams2\u001b[0m\u001b[0;34m[\u001b[0m\u001b[0;34m'W0'\u001b[0m\u001b[0;34m]\u001b[0m\u001b[0;34m.\u001b[0m\u001b[0mshape\u001b[0m\u001b[0;34m)\u001b[0m\u001b[0;34m\u001b[0m\u001b[0;34m\u001b[0m\u001b[0m\n\u001b[1;32m      6\u001b[0m \u001b[0mprint\u001b[0m\u001b[0;34m(\u001b[0m\u001b[0mparams2\u001b[0m\u001b[0;34m[\u001b[0m\u001b[0;34m'b0'\u001b[0m\u001b[0;34m]\u001b[0m\u001b[0;34m.\u001b[0m\u001b[0mshape\u001b[0m\u001b[0;34m)\u001b[0m\u001b[0;34m\u001b[0m\u001b[0;34m\u001b[0m\u001b[0m\n",
      "\u001b[0;31mAttributeError\u001b[0m: 'BabyNet' object has no attribute 'initialise_params'"
     ]
    }
   ],
   "source": [
    "print (standardized_train_x.shape)\n",
    "\n",
    "baby = BabyNet()\n",
    "params2 = baby.initialise_params([12288,8,1])\n",
    "print(params2['W0'].shape)\n",
    "print(params2['b0'].shape)\n",
    "print(params2['W1'].shape)\n",
    "print(params2['b1'].shape)"
   ]
  },
  {
   "cell_type": "code",
   "execution_count": 7,
   "metadata": {},
   "outputs": [
    {
     "output_type": "stream",
     "name": "stdout",
     "text": [
      "(1, 209) (1, 1)\n"
     ]
    },
    {
     "output_type": "error",
     "ename": "ValueError",
     "evalue": "matmul: Input operand 1 has a mismatch in its core dimension 0, with gufunc signature (n?,k),(k,m?)->(n?,m?) (size 1 is different from 12288)",
     "traceback": [
      "\u001b[0;31m---------------------------------------------------------------------------\u001b[0m",
      "\u001b[0;31mValueError\u001b[0m                                Traceback (most recent call last)",
      "\u001b[0;32m<ipython-input-7-c49232173c58>\u001b[0m in \u001b[0;36m<module>\u001b[0;34m\u001b[0m\n\u001b[1;32m      3\u001b[0m \u001b[0;32mfor\u001b[0m \u001b[0mx\u001b[0m\u001b[0;34m,\u001b[0m \u001b[0my\u001b[0m \u001b[0;32min\u001b[0m \u001b[0mzip\u001b[0m\u001b[0;34m(\u001b[0m\u001b[0mstandardized_train_x\u001b[0m\u001b[0;34m.\u001b[0m\u001b[0mT\u001b[0m\u001b[0;34m,\u001b[0m \u001b[0mtrain_y\u001b[0m\u001b[0;34m.\u001b[0m\u001b[0mT\u001b[0m\u001b[0;34m)\u001b[0m\u001b[0;34m:\u001b[0m\u001b[0;34m\u001b[0m\u001b[0;34m\u001b[0m\u001b[0m\n\u001b[1;32m      4\u001b[0m     \u001b[0mprint\u001b[0m\u001b[0;34m(\u001b[0m\u001b[0mnp\u001b[0m\u001b[0;34m.\u001b[0m\u001b[0marray\u001b[0m\u001b[0;34m(\u001b[0m\u001b[0;34m[\u001b[0m\u001b[0mx\u001b[0m\u001b[0;34m]\u001b[0m\u001b[0;34m)\u001b[0m\u001b[0;34m.\u001b[0m\u001b[0mshape\u001b[0m\u001b[0;34m,\u001b[0m \u001b[0mnp\u001b[0m\u001b[0;34m.\u001b[0m\u001b[0marray\u001b[0m\u001b[0;34m(\u001b[0m\u001b[0;34m[\u001b[0m\u001b[0my\u001b[0m\u001b[0;34m]\u001b[0m\u001b[0;34m)\u001b[0m\u001b[0;34m.\u001b[0m\u001b[0mshape\u001b[0m\u001b[0;34m)\u001b[0m\u001b[0;34m\u001b[0m\u001b[0;34m\u001b[0m\u001b[0m\n\u001b[0;32m----> 5\u001b[0;31m     \u001b[0mnet\u001b[0m\u001b[0;34m.\u001b[0m\u001b[0mtrain_one_piece_of_data\u001b[0m\u001b[0;34m(\u001b[0m\u001b[0mnp\u001b[0m\u001b[0;34m.\u001b[0m\u001b[0marray\u001b[0m\u001b[0;34m(\u001b[0m\u001b[0;34m[\u001b[0m\u001b[0mx\u001b[0m\u001b[0;34m]\u001b[0m\u001b[0;34m)\u001b[0m\u001b[0;34m,\u001b[0m \u001b[0mnp\u001b[0m\u001b[0;34m.\u001b[0m\u001b[0marray\u001b[0m\u001b[0;34m(\u001b[0m\u001b[0;34m[\u001b[0m\u001b[0my\u001b[0m\u001b[0;34m]\u001b[0m\u001b[0;34m)\u001b[0m\u001b[0;34m)\u001b[0m\u001b[0;34m\u001b[0m\u001b[0;34m\u001b[0m\u001b[0m\n\u001b[0m\u001b[1;32m      6\u001b[0m \u001b[0;34m\u001b[0m\u001b[0m\n\u001b[1;32m      7\u001b[0m     \u001b[0;31m# accuracy:\u001b[0m\u001b[0;34m\u001b[0m\u001b[0;34m\u001b[0m\u001b[0;34m\u001b[0m\u001b[0m\n",
      "\u001b[0;32m/mnt/c/Users/pavlo/OneDrive/Code/deep learning projects/PlayGround/main.py\u001b[0m in \u001b[0;36mtrain_one_piece_of_data\u001b[0;34m(self, x, y, learning_rate)\u001b[0m\n\u001b[1;32m    104\u001b[0m \u001b[0;34m\u001b[0m\u001b[0m\n\u001b[1;32m    105\u001b[0m         \u001b[0;31m# feed forward\u001b[0m\u001b[0;34m\u001b[0m\u001b[0;34m\u001b[0m\u001b[0;34m\u001b[0m\u001b[0m\n\u001b[0;32m--> 106\u001b[0;31m         \u001b[0mz\u001b[0m\u001b[0;34m,\u001b[0m \u001b[0ma\u001b[0m \u001b[0;34m=\u001b[0m \u001b[0mself\u001b[0m\u001b[0;34m.\u001b[0m\u001b[0mforward_prop\u001b[0m\u001b[0;34m(\u001b[0m\u001b[0mx\u001b[0m\u001b[0;34m)\u001b[0m\u001b[0;34m\u001b[0m\u001b[0;34m\u001b[0m\u001b[0m\n\u001b[0m\u001b[1;32m    107\u001b[0m \u001b[0;34m\u001b[0m\u001b[0m\n\u001b[1;32m    108\u001b[0m         \u001b[0;31m# compute the delta errors in the output\u001b[0m\u001b[0;34m\u001b[0m\u001b[0;34m\u001b[0m\u001b[0;34m\u001b[0m\u001b[0m\n",
      "\u001b[0;32m/mnt/c/Users/pavlo/OneDrive/Code/deep learning projects/PlayGround/main.py\u001b[0m in \u001b[0;36mforward_prop\u001b[0;34m(self, x)\u001b[0m\n\u001b[1;32m     87\u001b[0m         \u001b[0ma\u001b[0m \u001b[0;34m=\u001b[0m \u001b[0;34m[\u001b[0m\u001b[0mx\u001b[0m\u001b[0;34m]\u001b[0m\u001b[0;34m\u001b[0m\u001b[0;34m\u001b[0m\u001b[0m\n\u001b[1;32m     88\u001b[0m         \u001b[0;32mfor\u001b[0m \u001b[0ml\u001b[0m \u001b[0;32min\u001b[0m \u001b[0mrange\u001b[0m\u001b[0;34m(\u001b[0m\u001b[0;36m1\u001b[0m\u001b[0;34m,\u001b[0m \u001b[0mself\u001b[0m\u001b[0;34m.\u001b[0m\u001b[0mL\u001b[0m\u001b[0;34m)\u001b[0m\u001b[0;34m:\u001b[0m\u001b[0;34m\u001b[0m\u001b[0;34m\u001b[0m\u001b[0m\n\u001b[0;32m---> 89\u001b[0;31m             \u001b[0mcurrentZ\u001b[0m \u001b[0;34m=\u001b[0m \u001b[0mself\u001b[0m\u001b[0;34m.\u001b[0m\u001b[0mweights\u001b[0m\u001b[0;34m[\u001b[0m\u001b[0ml\u001b[0m\u001b[0;34m]\u001b[0m \u001b[0;34m@\u001b[0m \u001b[0ma\u001b[0m\u001b[0;34m[\u001b[0m\u001b[0ml\u001b[0m\u001b[0;34m-\u001b[0m\u001b[0;36m1\u001b[0m\u001b[0;34m]\u001b[0m \u001b[0;34m+\u001b[0m \u001b[0mself\u001b[0m\u001b[0;34m.\u001b[0m\u001b[0mbiases\u001b[0m\u001b[0;34m[\u001b[0m\u001b[0ml\u001b[0m\u001b[0;34m]\u001b[0m\u001b[0;34m\u001b[0m\u001b[0;34m\u001b[0m\u001b[0m\n\u001b[0m\u001b[1;32m     90\u001b[0m             \u001b[0mz\u001b[0m\u001b[0;34m.\u001b[0m\u001b[0mappend\u001b[0m\u001b[0;34m(\u001b[0m\u001b[0mcurrentZ\u001b[0m\u001b[0;34m)\u001b[0m\u001b[0;34m\u001b[0m\u001b[0;34m\u001b[0m\u001b[0m\n\u001b[1;32m     91\u001b[0m             \u001b[0ma\u001b[0m\u001b[0;34m.\u001b[0m\u001b[0mappend\u001b[0m\u001b[0;34m(\u001b[0m\u001b[0mself\u001b[0m\u001b[0;34m.\u001b[0m\u001b[0mactivations\u001b[0m\u001b[0;34m[\u001b[0m\u001b[0ml\u001b[0m\u001b[0;34m]\u001b[0m\u001b[0;34m(\u001b[0m\u001b[0mcurrentZ\u001b[0m\u001b[0;34m)\u001b[0m\u001b[0;34m)\u001b[0m\u001b[0;34m\u001b[0m\u001b[0;34m\u001b[0m\u001b[0m\n",
      "\u001b[0;31mValueError\u001b[0m: matmul: Input operand 1 has a mismatch in its core dimension 0, with gufunc signature (n?,k),(k,m?)->(n?,m?) (size 1 is different from 12288)"
     ]
    }
   ],
   "source": [
    "net = BabyNet([12288,8,1])\n",
    "\n",
    "for x, y in zip(standardized_train_x.T, train_y.T):\n",
    "    print(np.array([x]).shape, np.array([y]).shape)\n",
    "    net.train_one_piece_of_data(np.array([x]), np.array([y]))\n",
    "\n",
    "    # accuracy:\n",
    "    totalTrainError = 0\n",
    "    totalTestError = 0\n",
    "    for trainX, trainY in zip(standardized_train_x.T, train_y.T):\n",
    "        error = trainY - net.forward_prop(trainX)\n",
    "        totalTrainError += error\n",
    "    for testX, testY in zip(standardized_test_x.T, test_y.T):\n",
    "        error = testY - net.forward_prop(testX)\n",
    "        totalTestError += error\n",
    "\n",
    "    testAccuracy = totalTestError / len(test_y)\n",
    "    trainAccuracy = totalTrainError / len(train_y)\n",
    "    print(testAccuracy, trainAccuracy)\n",
    "\n",
    "\n",
    "# net.train_a_batch_of_data(standardized_train_x, train_y)\n",
    "\n",
    "\n"
   ]
  },
  {
   "cell_type": "code",
   "execution_count": 8,
   "metadata": {},
   "outputs": [
    {
     "output_type": "stream",
     "name": "stdout",
     "text": [
      "(3, 1)\n"
     ]
    },
    {
     "output_type": "execute_result",
     "data": {
      "text/plain": [
       "14"
      ]
     },
     "metadata": {},
     "execution_count": 8
    }
   ],
   "source": [
    "print(np.array([[1,2,3]]).T.shape)\n",
    "\n",
    "np.array([1,2,3]).dot(np.array([1,2,3]).T)"
   ]
  },
  {
   "cell_type": "code",
   "execution_count": 9,
   "metadata": {},
   "outputs": [
    {
     "output_type": "execute_result",
     "data": {
      "text/plain": [
       "[0, 1, 2, 3, 4]"
      ]
     },
     "metadata": {},
     "execution_count": 9
    }
   ],
   "source": [
    "[*range(0, 5)]"
   ]
  },
  {
   "cell_type": "code",
   "execution_count": 10,
   "metadata": {},
   "outputs": [
    {
     "output_type": "execute_result",
     "data": {
      "text/plain": [
       "[1, 0]"
      ]
     },
     "metadata": {},
     "execution_count": 10
    }
   ],
   "source": [
    "[*range(1, -1, -1)]"
   ]
  },
  {
   "cell_type": "code",
   "execution_count": 11,
   "metadata": {},
   "outputs": [
    {
     "output_type": "execute_result",
     "data": {
      "text/plain": [
       "(3, 2)"
      ]
     },
     "metadata": {},
     "execution_count": 11
    }
   ],
   "source": [
    "np.array([[1, 2, 3],\n",
    "          [1, 2, 3]]).T.shape"
   ]
  },
  {
   "cell_type": "code",
   "execution_count": 12,
   "metadata": {},
   "outputs": [
    {
     "output_type": "stream",
     "name": "stdout",
     "text": [
      "[[1 1 0 0]]\n[[0.8]\n [0.9]\n [0.2]\n [0.3]]\n"
     ]
    }
   ],
   "source": [
    "import numpy as np\n",
    "\n",
    "y = np.array([[1, 1, 0, 0]])\n",
    "a2 = np.array([[0.8, 0.9, 0.2, 0.3]])\n",
    "print(y)\n",
    "\n",
    "print(a2.T)"
   ]
  },
  {
   "cell_type": "code",
   "execution_count": 13,
   "metadata": {},
   "outputs": [
    {
     "output_type": "execute_result",
     "data": {
      "text/plain": [
       "0.328504066972036"
      ]
     },
     "metadata": {},
     "execution_count": 13
    }
   ],
   "source": [
    "-(y@np.log(a2.T))[0][0]"
   ]
  },
  {
   "cell_type": "code",
   "execution_count": 14,
   "metadata": {},
   "outputs": [
    {
     "output_type": "execute_result",
     "data": {
      "text/plain": [
       "0.5798184952529422"
      ]
     },
     "metadata": {},
     "execution_count": 14
    }
   ],
   "source": [
    "-((1-y)@np.log(1-a2).T)[0][0]"
   ]
  },
  {
   "cell_type": "code",
   "execution_count": 15,
   "metadata": {},
   "outputs": [
    {
     "output_type": "execute_result",
     "data": {
      "text/plain": [
       "0.9083225622249782"
      ]
     },
     "metadata": {},
     "execution_count": 15
    }
   ],
   "source": [
    "(-(y@np.log(a2.T))[0][0] - ((1-y)@np.log(1-a2).T)[0][0])"
   ]
  },
  {
   "cell_type": "code",
   "execution_count": 16,
   "metadata": {},
   "outputs": [
    {
     "output_type": "execute_result",
     "data": {
      "text/plain": [
       "0.22708064055624455"
      ]
     },
     "metadata": {},
     "execution_count": 16
    }
   ],
   "source": [
    "1/y.shape[1] * (-(y@np.log(a2.T))[0][0] - ((1-y)@np.log(1-a2).T)[0][0])"
   ]
  },
  {
   "cell_type": "code",
   "execution_count": 15,
   "metadata": {},
   "outputs": [],
   "source": [
    "Y = train_y\n",
    "\n",
    "AL = (np.random.rand(1,209) * 0.00001)"
   ]
  },
  {
   "cell_type": "code",
   "execution_count": 16,
   "metadata": {},
   "outputs": [
    {
     "output_type": "stream",
     "name": "stdout",
     "text": [
      "(1, 209) (1, 209)\n"
     ]
    }
   ],
   "source": [
    "print(Y.shape, AL.shape)"
   ]
  },
  {
   "cell_type": "code",
   "execution_count": 13,
   "metadata": {},
   "outputs": [],
   "source": [
    "import time"
   ]
  },
  {
   "cell_type": "code",
   "execution_count": 17,
   "metadata": {},
   "outputs": [
    {
     "output_type": "stream",
     "name": "stdout",
     "text": [
      "Average Time Taken 2.5342702865600586e-05\n"
     ]
    }
   ],
   "source": [
    "t0 = time.time()\n",
    "\n",
    "for i in range(1000):\n",
    "    - np.mean(Y * np.log(AL) + (1 - Y) * np.log(1 - AL), axis=1, keepdims=True)\n",
    "\n",
    "t1 = time.time()\n",
    "avg = (t1 - t0)/1000\n",
    "\n",
    "print( \"Average Time Taken\",avg)"
   ]
  },
  {
   "cell_type": "code",
   "execution_count": 18,
   "metadata": {},
   "outputs": [
    {
     "output_type": "stream",
     "name": "stdout",
     "text": [
      "Average Time Taken 2.0786523818969727e-05\n"
     ]
    }
   ],
   "source": [
    "t0 = time.time()\n",
    "\n",
    "for i in range(1000):\n",
    "    (-np.dot(Y,np.log(AL).T) - np.dot(1-Y, np.log(1-AL).T)) / Y.shape[1]\n",
    "\n",
    "t1 = time.time()\n",
    "avg = (t1 - t0)/1000\n",
    "\n",
    "print( \"Average Time Taken\",avg)"
   ]
  },
  {
   "cell_type": "code",
   "execution_count": 19,
   "metadata": {},
   "outputs": [
    {
     "output_type": "stream",
     "name": "stdout",
     "text": [
      "TIME in 0.00030040740966796875 seconds\n"
     ]
    }
   ],
   "source": [
    "start_time = time.time()\n",
    "#%time \n",
    "- np.mean(Y * np.log(AL) + (1 - Y) * np.log(1 - AL), axis=1, keepdims=True)\n",
    "print(\"TIME in %s seconds\" % (time.time() - start_time))\n",
    "# a.shape\n",
    "# a"
   ]
  },
  {
   "cell_type": "code",
   "execution_count": 20,
   "metadata": {},
   "outputs": [
    {
     "output_type": "stream",
     "name": "stdout",
     "text": [
      "TIME in 0.0012369155883789062 seconds\n"
     ]
    }
   ],
   "source": [
    "start_time = time.time()\n",
    "#%time\n",
    "(-np.dot(Y,np.log(AL).T) - np.dot(1-Y, np.log(1-AL).T)) / Y.shape[1]\n",
    "print(\"TIME in %s seconds\" % (time.time() - start_time))\n",
    "#b.shape\n",
    "#b"
   ]
  },
  {
   "cell_type": "code",
   "execution_count": 74,
   "metadata": {},
   "outputs": [],
   "source": [
    "#"
   ]
  },
  {
   "cell_type": "code",
   "execution_count": null,
   "metadata": {},
   "outputs": [],
   "source": []
  }
 ]
}